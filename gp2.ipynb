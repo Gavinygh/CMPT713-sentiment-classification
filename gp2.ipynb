{
 "cells": [
  {
   "cell_type": "code",
   "execution_count": 2,
   "metadata": {},
   "outputs": [],
   "source": [
    "import torch\n",
    "from transformers import GPT2Tokenizer, GPT2Model\n",
    "from transformers import GPT2Model, GPT2Config\n",
    "from datasets import load_dataset\n",
    "import numpy as np\n",
    "np.random.seed(42)\n",
    "tokenizer = GPT2Tokenizer.from_pretrained('gpt2')\n",
    "#model = GPT2Model.from_pretrained('gpt2')\n",
    "\n",
    "config = GPT2Config()\n",
    "config.output_hidden_states=True\n",
    "\n",
    "model = GPT2Model(config)"
   ]
  },
  {
   "cell_type": "code",
   "execution_count": 3,
   "metadata": {},
   "outputs": [],
   "source": [
    "dataset = load_dataset(\"sst\")\n",
    "train_dataset = dataset[\"train\"]\n",
    "test_dataset = dataset[\"test\"]\n",
    "validation_dataset = dataset[\"validation\"]"
   ]
  },
  {
   "cell_type": "code",
   "execution_count": 4,
   "metadata": {},
   "outputs": [],
   "source": [
    "trXt = [tokenizer(string, return_tensors=\"pt\") for string in train_dataset['sentence'][0:400]]"
   ]
  },
  {
   "cell_type": "code",
   "execution_count": 5,
   "metadata": {},
   "outputs": [],
   "source": [
    "trX_hs = [model(**string).hidden_states[1:] for string in trXt]"
   ]
  },
  {
   "cell_type": "code",
   "execution_count": 6,
   "metadata": {},
   "outputs": [],
   "source": [
    "layers = np.zeros((12, 400, 768))\n",
    "\n",
    "for i, sentence_hs in enumerate(trX_hs):\n",
    "    for layer, hs in enumerate(sentence_hs): \n",
    "        layers[layer][i] = torch.mean(hs.squeeze(0), dim=0).detach().numpy()  "
   ]
  },
  {
   "cell_type": "code",
   "execution_count": 7,
   "metadata": {},
   "outputs": [],
   "source": [
    "trY = train_dataset['label'][0:400]"
   ]
  },
  {
   "cell_type": "code",
   "execution_count": 8,
   "metadata": {},
   "outputs": [],
   "source": [
    "trY_reshaped = trY\n",
    "\n",
    "# Calculate correlations for each layer\n",
    "correlation_results = []\n",
    "for layer_data in layers:\n",
    "    # Calculate correlation for each feature in the layer\n",
    "    correlations = np.corrcoef(layer_data.T, trY_reshaped)\n",
    "    # Take only the correlations of interest (with the scores), remove the last row\n",
    "    correlations = correlations[:-1, -1]\n",
    "    correlation_results.append(correlations)\n",
    "correlation_matrix = np.array(correlation_results)"
   ]
  },
  {
   "cell_type": "code",
   "execution_count": 9,
   "metadata": {},
   "outputs": [
    {
     "data": {
      "text/plain": [
       "0.17951969857437397"
      ]
     },
     "execution_count": 9,
     "metadata": {},
     "output_type": "execute_result"
    }
   ],
   "source": [
    "np.max(correlation_matrix)"
   ]
  },
  {
   "cell_type": "code",
   "execution_count": 10,
   "metadata": {},
   "outputs": [
    {
     "name": "stdout",
     "output_type": "stream",
     "text": [
      "Value: 0.15632846599207814, Index: (9, 738)\n",
      "Value: 0.15639723094903513, Index: (7, 578)\n",
      "Value: 0.16728559001046517, Index: (2, 666)\n",
      "Value: 0.16177474247587048, Index: (5, 578)\n",
      "Value: 0.166897703680477, Index: (10, 578)\n",
      "Value: 0.1635813251680548, Index: (3, 763)\n",
      "Value: 0.16212361101586942, Index: (7, 596)\n",
      "Value: 0.1684591691974711, Index: (5, 738)\n",
      "Value: 0.17951969857437397, Index: (0, 467)\n",
      "Value: 0.16874805516684346, Index: (9, 578)\n"
     ]
    }
   ],
   "source": [
    "flat_indices = np.argpartition(correlation_matrix.flatten(), -10)[-10:]\n",
    "\n",
    "# Get top 10 values and their indices\n",
    "top_10_values = correlation_matrix.flatten()[flat_indices]\n",
    "top_10_indices = np.unravel_index(flat_indices, correlation_matrix.shape)\n",
    "\n",
    "# Display top 10 values and their positions\n",
    "for value, index in zip(top_10_values, zip(*top_10_indices)):\n",
    "    print(f\"Value: {value}, Index: {index}\")"
   ]
  },
  {
   "cell_type": "markdown",
   "metadata": {},
   "source": [
    "## Computer correlation with only last hidden values"
   ]
  },
  {
   "cell_type": "code",
   "execution_count": 11,
   "metadata": {},
   "outputs": [],
   "source": [
    "trXls = [model(**string).last_hidden_state for string in trXt[0:400]]"
   ]
  },
  {
   "cell_type": "code",
   "execution_count": 12,
   "metadata": {},
   "outputs": [],
   "source": [
    "last_hidden_mean_states = [torch.mean(tensor.squeeze(0), dim=0) for tensor in trXls]"
   ]
  },
  {
   "cell_type": "code",
   "execution_count": 13,
   "metadata": {},
   "outputs": [],
   "source": [
    "last_hidden_mean_states = torch.stack(last_hidden_mean_states, 0)"
   ]
  },
  {
   "cell_type": "code",
   "execution_count": 15,
   "metadata": {},
   "outputs": [],
   "source": [
    "transposed_tensor = last_hidden_mean_states.t()"
   ]
  },
  {
   "cell_type": "code",
   "execution_count": 16,
   "metadata": {},
   "outputs": [],
   "source": [
    "def corrcoef(x):\n",
    "    numpy_array = x.detach().numpy()\n",
    "    python_list = numpy_array.tolist()\n",
    "\n",
    "    correlation_matrix = np.corrcoef(python_list, trY)\n",
    "\n",
    "    return correlation_matrix[0, 1]\n",
    "\n",
    "coeff = list(map(corrcoef, transposed_tensor))"
   ]
  },
  {
   "cell_type": "code",
   "execution_count": 17,
   "metadata": {},
   "outputs": [
    {
     "data": {
      "text/html": [
       "<div>\n",
       "<style scoped>\n",
       "    .dataframe tbody tr th:only-of-type {\n",
       "        vertical-align: middle;\n",
       "    }\n",
       "\n",
       "    .dataframe tbody tr th {\n",
       "        vertical-align: top;\n",
       "    }\n",
       "\n",
       "    .dataframe thead th {\n",
       "        text-align: right;\n",
       "    }\n",
       "</style>\n",
       "<table border=\"1\" class=\"dataframe\">\n",
       "  <thead>\n",
       "    <tr style=\"text-align: right;\">\n",
       "      <th></th>\n",
       "      <th>Number</th>\n",
       "      <th>Original_Index</th>\n",
       "    </tr>\n",
       "  </thead>\n",
       "  <tbody>\n",
       "    <tr>\n",
       "      <th>0</th>\n",
       "      <td>0.191403</td>\n",
       "      <td>212</td>\n",
       "    </tr>\n",
       "    <tr>\n",
       "      <th>1</th>\n",
       "      <td>0.136741</td>\n",
       "      <td>634</td>\n",
       "    </tr>\n",
       "    <tr>\n",
       "      <th>2</th>\n",
       "      <td>0.134816</td>\n",
       "      <td>578</td>\n",
       "    </tr>\n",
       "    <tr>\n",
       "      <th>3</th>\n",
       "      <td>0.131846</td>\n",
       "      <td>346</td>\n",
       "    </tr>\n",
       "    <tr>\n",
       "      <th>4</th>\n",
       "      <td>0.115368</td>\n",
       "      <td>126</td>\n",
       "    </tr>\n",
       "    <tr>\n",
       "      <th>...</th>\n",
       "      <td>...</td>\n",
       "      <td>...</td>\n",
       "    </tr>\n",
       "    <tr>\n",
       "      <th>763</th>\n",
       "      <td>-0.123792</td>\n",
       "      <td>482</td>\n",
       "    </tr>\n",
       "    <tr>\n",
       "      <th>764</th>\n",
       "      <td>-0.135119</td>\n",
       "      <td>564</td>\n",
       "    </tr>\n",
       "    <tr>\n",
       "      <th>765</th>\n",
       "      <td>-0.136690</td>\n",
       "      <td>711</td>\n",
       "    </tr>\n",
       "    <tr>\n",
       "      <th>766</th>\n",
       "      <td>-0.141952</td>\n",
       "      <td>302</td>\n",
       "    </tr>\n",
       "    <tr>\n",
       "      <th>767</th>\n",
       "      <td>-0.144778</td>\n",
       "      <td>491</td>\n",
       "    </tr>\n",
       "  </tbody>\n",
       "</table>\n",
       "<p>768 rows × 2 columns</p>\n",
       "</div>"
      ],
      "text/plain": [
       "       Number  Original_Index\n",
       "0    0.191403             212\n",
       "1    0.136741             634\n",
       "2    0.134816             578\n",
       "3    0.131846             346\n",
       "4    0.115368             126\n",
       "..        ...             ...\n",
       "763 -0.123792             482\n",
       "764 -0.135119             564\n",
       "765 -0.136690             711\n",
       "766 -0.141952             302\n",
       "767 -0.144778             491\n",
       "\n",
       "[768 rows x 2 columns]"
      ]
     },
     "execution_count": 17,
     "metadata": {},
     "output_type": "execute_result"
    }
   ],
   "source": [
    "import pandas as pd\n",
    "numbers_series = pd.Series(coeff)\n",
    "\n",
    "# Getting the indices that would sort the numbers in descending order\n",
    "sorted_indices = (-numbers_series).argsort()\n",
    "\n",
    "# Creating a DataFrame with columns 'Number' (sorted) and 'Original_Index'\n",
    "df = pd.DataFrame({'Number': numbers_series[sorted_indices].values, 'Original_Index': sorted_indices})\n",
    "\n",
    "df"
   ]
  },
  {
   "cell_type": "code",
   "execution_count": null,
   "metadata": {},
   "outputs": [],
   "source": []
  }
 ],
 "metadata": {
  "kernelspec": {
   "display_name": "Python 3 (ipykernel)",
   "language": "python",
   "name": "python3"
  },
  "language_info": {
   "codemirror_mode": {
    "name": "ipython",
    "version": 3
   },
   "file_extension": ".py",
   "mimetype": "text/x-python",
   "name": "python",
   "nbconvert_exporter": "python",
   "pygments_lexer": "ipython3",
   "version": "3.8.5"
  }
 },
 "nbformat": 4,
 "nbformat_minor": 4
}
